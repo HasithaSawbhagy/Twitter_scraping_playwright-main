{
 "cells": [
  {
   "cell_type": "code",
   "execution_count": 7,
   "id": "dd7c1c73-f09b-4f03-812e-cc5d489c37ce",
   "metadata": {
    "tags": []
   },
   "outputs": [],
   "source": [
    "import json\n",
    "import pandas as pd"
   ]
  },
  {
   "cell_type": "code",
   "execution_count": null,
   "id": "fdc4c165-8e2a-4150-bdd7-4a1114050278",
   "metadata": {
    "tags": []
   },
   "outputs": [],
   "source": [
    "def returnValueFromData(data, key):\n",
    "    temp = data.copy()\n",
    "    for i in key.split('.'): #[legacy, created_at]\n",
    "        if i == \"urls\" or i == \"pinned_tweet_ids_str\" or i == \"media\":\n",
    "            if len(temp[i])>0:\n",
    "                temp = temp[i][0]\n",
    "            else:\n",
    "                return None\n",
    "        elif i in temp.keys():\n",
    "            temp = temp[i]\n",
    "        else:\n",
    "            return None\n",
    "    return temp\n",
    "\n",
    "with open(\"MrBeast_user_profile_info.json\", \"r\") as json_file:\n",
    "        data = json.load(json_file)\n",
    "        userprofile_key_to_key_mapping = {\n",
    "            \"user_or_tweet\": \"__typename\",\n",
    "            \"is_blue_verified\": \"core.user_results.result.is_blue_verified\",\n",
    "            \"created_at\": \"core.user_results.result.legacy.created_at\",\n",
    "            \"description\": \"core.user_results.result.legacy.description\",\n",
    "            \"user_web_url\": \"core.user_results.result.legacy.entities.url.urls.display_url\",\n",
    "            \"expanded_user_web_url\": \"core.user_results.result.legacy.entities.url.urls.expanded_url\",\n",
    "            \"favourites_count\": \"core.user_results.result.legacy.favourites_count\",\n",
    "            \"followers_count\": \"core.user_results.result.legacy.followers_count\",\n",
    "            \"following\": \"core.user_results.result.legacy.friends_count\",\n",
    "            \"has_custom_timelines\": \"core.user_results.result.legacy.has_custom_timelines\",\n",
    "            \"location\": \"core.user_results.result.legacy.location\",\n",
    "            \"photos_and_videos_count\": \"core.user_results.result.legacy.media_count\",\n",
    "            \"name\": \"core.user_results.result.legacy.name\",\n",
    "            \"pinned_tweet_ids_str\": \"core.user_results.result.legacy.pinned_tweet_ids_str\",\n",
    "            \"profile_banner_url\": \"core.user_results.result.legacy.profile_banner_url\",\n",
    "            \"profile_image_url\": \"core.user_results.result.legacy.profile_image_url_https\",\n",
    "            \"screen_name\": \"core.user_results.result.legacy.screen_name\",\n",
    "            \"posts_count\": \"core.user_results.result.legacy.statuses_count\",\n",
    "            \"professional_type\": \"core.user_results.result.professional.professional_type\",\n",
    "            \"verified_phone_status\": \"core.user_results.result.verified_phone_status\",\n",
    "            \"is_edit_eligible\": \"edit_control.is_edit_eligible\",\n",
    "            \"edits_remaining\": \"edit_control.edits_remaining\",\n",
    "            \"views_count\": \"views.count\",\n",
    "            \"source\": \"source\",\n",
    "            \"post_created_at\": \"legacy.created_at\",\n",
    "            \"post_conversation_id_str\": \"legacy.conversation_id_str\",\n",
    "            \"hashtags\": \"legacy.entities.hashtags\",\n",
    "            \"media_url_https\": \"legacy.entities.media.media_url_https\",\n",
    "            \"media_type\": \"legacy.entities.media.media_url_https\",\n",
    "            \"user_mentions_in_media\": \"legacy.entities.media.user_mentions\",\n",
    "            \"favorite_count\": \"legacy.favorite_count\",\n",
    "            \"full_text_in_post\": \"legacy.full_text\",\n",
    "            \"language_of_the_post\": \"legacy.lang\",\n",
    "            \"quote_count\": \"legacy.quote_count\",\n",
    "            \"reply_count\": \"legacy.reply_count\",\n",
    "            \"retweet_count\": \"legacy.retweet_count\",\n",
    "            \"is_retweeted\": \"legacy.retweeted\",\n",
    "        }\n",
    "\n",
    "userprofile_json = {}\n",
    "        \n",
    "for i in userprofile_key_to_key_mapping.items():\n",
    "    userprofile_json[i[0]] = [returnValueFromData(data, i[1])]\n",
    "    \n",
    "user_df = pd.DataFrame(userprofile_json)\n",
    "user_df.head()"
   ]
  }
 ],
 "metadata": {
  "kernelspec": {
   "display_name": "venv",
   "language": "python",
   "name": "python3"
  },
  "language_info": {
   "codemirror_mode": {
    "name": "ipython",
    "version": 3
   },
   "file_extension": ".py",
   "mimetype": "text/x-python",
   "name": "python",
   "nbconvert_exporter": "python",
   "pygments_lexer": "ipython3",
   "version": "3.12.4"
  }
 },
 "nbformat": 4,
 "nbformat_minor": 5
}
